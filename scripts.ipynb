{
 "cells": [
  {
   "cell_type": "markdown",
   "metadata": {},
   "source": [
    "# HW1"
   ]
  },
  {
   "cell_type": "markdown",
   "metadata": {},
   "source": [
    "## Indroduction"
   ]
  },
  {
   "cell_type": "markdown",
   "metadata": {},
   "source": [
    "### Say \"Hello, World!\" With Python"
   ]
  },
  {
   "cell_type": "code",
   "execution_count": null,
   "metadata": {},
   "outputs": [],
   "source": [
    "print(\"Hello, World!\")"
   ]
  },
  {
   "cell_type": "markdown",
   "metadata": {},
   "source": [
    "### Python If-Else"
   ]
  },
  {
   "cell_type": "code",
   "execution_count": null,
   "metadata": {},
   "outputs": [],
   "source": [
    "#!/bin/python3\n",
    "\n",
    "import math\n",
    "import os\n",
    "import random\n",
    "import re\n",
    "import sys\n",
    "\n",
    "if __name__ == '__main__':\n",
    "    n = int(input().strip())\n",
    "    if n % 2 == 0: # n is even\n",
    "        if n in range(2, 6): # n from 2 to 5\n",
    "            print(\"Not Weird\")\n",
    "        elif n in range(6, 21): # n from 6 to 20\n",
    "            print(\"Weird\")\n",
    "        else: # n > 20\n",
    "            print(\"Not Weird\")\n",
    "    else:\n",
    "        # n is odd\n",
    "        print(\"Weird\")"
   ]
  },
  {
   "cell_type": "markdown",
   "metadata": {},
   "source": [
    "### Arithmetic Operators"
   ]
  },
  {
   "cell_type": "code",
   "execution_count": null,
   "metadata": {},
   "outputs": [],
   "source": [
    "if __name__ == '__main__':\n",
    "    a = int(input())\n",
    "    b = int(input())\n",
    "    print('{}\\n{}\\n{}'.format(a + b, a - b, a * b))"
   ]
  },
  {
   "cell_type": "markdown",
   "metadata": {},
   "source": [
    "### Python: Division"
   ]
  },
  {
   "cell_type": "code",
   "execution_count": null,
   "metadata": {},
   "outputs": [],
   "source": [
    "if __name__ == '__main__':\n",
    "    a = int(input())\n",
    "    b = int(input())\n",
    "    print(\"{}\\n{}\".format(a // b, a / b))"
   ]
  },
  {
   "cell_type": "markdown",
   "metadata": {},
   "source": [
    "### Loops"
   ]
  },
  {
   "cell_type": "code",
   "execution_count": null,
   "metadata": {},
   "outputs": [],
   "source": [
    "if __name__ == '__main__':\n",
    "    n = int(input())\n",
    "    for i in range(n):\n",
    "        print(i ** 2)"
   ]
  },
  {
   "cell_type": "markdown",
   "metadata": {},
   "source": [
    "### Write a function"
   ]
  },
  {
   "cell_type": "code",
   "execution_count": null,
   "metadata": {},
   "outputs": [],
   "source": [
    "def is_leap(year):\n",
    "    leap = False\n",
    "    \n",
    "    # Write your logic here\n",
    "    if year % 4 == 0: # The year can be evenly divided by 4\n",
    "        if year % 100 == 0: # The year can be evenly divided by 100\n",
    "            if year % 400 == 0: # The year can be evenly divided by 400\n",
    "                leap = True\n",
    "            else:\n",
    "                leap = False\n",
    "        else:\n",
    "            leap = True\n",
    "    else:\n",
    "        leap = False\n",
    "    return leap\n"
   ]
  },
  {
   "cell_type": "markdown",
   "metadata": {},
   "source": [
    "### Print Function"
   ]
  },
  {
   "cell_type": "code",
   "execution_count": null,
   "metadata": {},
   "outputs": [],
   "source": [
    "if __name__ == '__main__':\n",
    "    n = int(input())\n",
    "    for i in range(1, n+1):\n",
    "        print(i, end='') # replace end = '\\n' with ''"
   ]
  },
  {
   "cell_type": "markdown",
   "metadata": {},
   "source": [
    "---"
   ]
  },
  {
   "cell_type": "markdown",
   "metadata": {},
   "source": [
    "## Data types"
   ]
  },
  {
   "cell_type": "markdown",
   "metadata": {},
   "source": [
    "### List Comprehensions"
   ]
  },
  {
   "cell_type": "code",
   "execution_count": null,
   "metadata": {},
   "outputs": [],
   "source": [
    "if __name__ == '__main__':\n",
    "    x = int(input())\n",
    "    y = int(input())\n",
    "    z = int(input())\n",
    "    n = int(input())\n",
    "\n",
    "    lst = []\n",
    "    for i in range(x+1):\n",
    "        for j in range(y+1):\n",
    "            for k in range(z+1):\n",
    "                if i+j+k != n:\n",
    "                    lst.append([i, j, k]) \n",
    "    print(lst)"
   ]
  },
  {
   "cell_type": "markdown",
   "metadata": {},
   "source": [
    "### Find the Runner-Up Score!"
   ]
  },
  {
   "cell_type": "code",
   "execution_count": null,
   "metadata": {},
   "outputs": [],
   "source": [
    "if __name__ == '__main__':\n",
    "    n = int(input())\n",
    "    arr = map(int, input().split())\n",
    "\n",
    "    arr = list(arr)\n",
    "    mx = max(arr)\n",
    "    a = -1000 # impossible score; a --> second max\n",
    "\n",
    "    for x in arr:\n",
    "        if x > a and x != mx:\n",
    "            a = x\n",
    "    \n",
    "    print(a)"
   ]
  },
  {
   "cell_type": "markdown",
   "metadata": {},
   "source": [
    "### Nested Lists"
   ]
  },
  {
   "cell_type": "code",
   "execution_count": null,
   "metadata": {},
   "outputs": [],
   "source": [
    "if __name__ == '__main__':\n",
    "    students = []\n",
    "    for _ in range(int(input())):\n",
    "        name = input()\n",
    "        score = float(input())\n",
    "        students.append([name, score])\n",
    "    mn = min([students[i][1] for i in range(len(students))])   # mn <- lowest grade\n",
    "    \n",
    "    students_s = [] # students list without lowest grade mn\n",
    "    for x in students:\n",
    "        if x[1] != mn:\n",
    "            students_s.append(x)\n",
    "    \n",
    "    mn_s = min([students_s[i][1] for i in range(len(students_s))]) #mn_s <- second lowest grade \n",
    "    students_s.sort()\n",
    "    for x in students_s:\n",
    "        if x[1] == mn_s:\n",
    "            print(x[0])"
   ]
  },
  {
   "cell_type": "markdown",
   "metadata": {},
   "source": [
    "### Finding the percentage"
   ]
  },
  {
   "cell_type": "code",
   "execution_count": null,
   "metadata": {},
   "outputs": [],
   "source": [
    "if __name__ == '__main__':\n",
    "    n = int(input())\n",
    "    student_marks = {}\n",
    "    for _ in range(n):\n",
    "        name, *line = input().split()\n",
    "        scores = list(map(float, line))\n",
    "        student_marks[name] = scores\n",
    "    query_name = input()\n",
    "\n",
    "    v = sum(student_marks[query_name]) / 3 # v <- average\n",
    "    print('{:.2f}'.format(v))"
   ]
  },
  {
   "cell_type": "markdown",
   "metadata": {},
   "source": [
    "### Lists"
   ]
  },
  {
   "cell_type": "code",
   "execution_count": null,
   "metadata": {},
   "outputs": [],
   "source": [
    "if __name__ == '__main__':\n",
    "    N = int(input())\n",
    "    \n",
    "    lst = []\n",
    "    c_lst = []\n",
    "\n",
    "    for _ in range(N):\n",
    "        c_lst.append(input().split()) # commands list\n",
    "    \n",
    "    for x in c_lst:\n",
    "        if x[0] == 'insert':\n",
    "            lst.insert(int(x[1]), int(x[2]))\n",
    "        elif x[0] == 'print':\n",
    "            print(lst)\n",
    "        elif x[0] == 'remove':\n",
    "            lst.remove(int(x[1]))\n",
    "        elif x[0] == 'append':\n",
    "            lst.append(int(x[1]))\n",
    "        elif x[0] == 'sort':\n",
    "            lst.sort()\n",
    "        elif x[0] == 'pop':\n",
    "            lst.pop(-1)\n",
    "        elif x[0] == 'reverse':\n",
    "            lst = lst[::-1]"
   ]
  },
  {
   "cell_type": "markdown",
   "metadata": {},
   "source": [
    "### Tuples"
   ]
  },
  {
   "cell_type": "code",
   "execution_count": null,
   "metadata": {},
   "outputs": [],
   "source": [
    "if __name__ == '__main__':\n",
    "    n = int(input())\n",
    "    integer_list = map(int, input().split())\n",
    "\n",
    "    t = tuple(integer_list)\n",
    "    print(hash(t))"
   ]
  },
  {
   "cell_type": "markdown",
   "metadata": {},
   "source": [
    "---"
   ]
  },
  {
   "cell_type": "markdown",
   "metadata": {},
   "source": [
    "## Strings"
   ]
  },
  {
   "cell_type": "markdown",
   "metadata": {},
   "source": [
    "### sWAP cASE"
   ]
  },
  {
   "cell_type": "code",
   "execution_count": null,
   "metadata": {},
   "outputs": [],
   "source": [
    "def swap_case(s):\n",
    "    return s.swapcase()\n",
    "\n",
    "if __name__ == '__main__':\n",
    "    s = input()\n",
    "    result = swap_case(s)\n",
    "    print(result)"
   ]
  },
  {
   "cell_type": "markdown",
   "metadata": {},
   "source": [
    "### String Split and Join"
   ]
  },
  {
   "cell_type": "code",
   "execution_count": null,
   "metadata": {},
   "outputs": [],
   "source": [
    "def split_and_join(line):\n",
    "    # write your code here\n",
    "    line = line.split()\n",
    "    line = \"-\".join(line)\n",
    "    return line\n",
    "\n",
    "if __name__ == '__main__':\n",
    "    line = input()\n",
    "    result = split_and_join(line)\n",
    "    print(result)"
   ]
  },
  {
   "cell_type": "markdown",
   "metadata": {},
   "source": [
    "### What's Your Name?"
   ]
  },
  {
   "cell_type": "code",
   "execution_count": null,
   "metadata": {},
   "outputs": [],
   "source": [
    "def print_full_name(a, b):\n",
    "    print(\"Hello {firstname} {lastname}! You just delved into python.\".format(firstname=a, lastname=b))\n",
    "\n",
    "if __name__ == '__main__':\n",
    "    first_name = input()\n",
    "    last_name = input()\n",
    "    print_full_name(first_name, last_name)"
   ]
  },
  {
   "cell_type": "markdown",
   "metadata": {},
   "source": [
    "### Mutations"
   ]
  },
  {
   "cell_type": "code",
   "execution_count": null,
   "metadata": {},
   "outputs": [],
   "source": [
    "def mutate_string(string, position, character):\n",
    "    string = string[:int(position)] + character + string[int(position)+1:]\n",
    "    return string\n",
    "\n",
    "if __name__ == '__main__':\n",
    "    s = input()\n",
    "    i, c = input().split()\n",
    "    s_new = mutate_string(s, int(i), c)\n",
    "    print(s_new)"
   ]
  },
  {
   "cell_type": "markdown",
   "metadata": {},
   "source": [
    "### Find a string"
   ]
  },
  {
   "cell_type": "code",
   "execution_count": null,
   "metadata": {},
   "outputs": [],
   "source": [
    "def count_substring(string, sub_string):\n",
    "    count=0\n",
    "    for i in range(len(string)-len(sub_string)+1):\n",
    "        s = 0\n",
    "        if string[i] == sub_string[0]:\n",
    "            for j in range(len(sub_string)):\n",
    "                if string[i+j] == sub_string[j]:\n",
    "                    s +=1\n",
    "            if s == len(sub_string): # found a substring\n",
    "                count += 1\n",
    "    return count\n",
    "\n",
    "if __name__ == '__main__':\n",
    "    string = input().strip()\n",
    "    sub_string = input().strip()\n",
    "    \n",
    "    count = count_substring(string, sub_string)\n",
    "    print(count)"
   ]
  },
  {
   "cell_type": "markdown",
   "metadata": {},
   "source": [
    "### String Validators"
   ]
  },
  {
   "cell_type": "code",
   "execution_count": null,
   "metadata": {},
   "outputs": [],
   "source": [
    "if __name__ == '__main__':\n",
    "    s = input()\n",
    "    print(any(c.isalnum() for c in s))\n",
    "    print(any(c.isalpha() for c in s))\n",
    "    print(any(c.isdigit() for c in s))\n",
    "    print(any(c.islower() for c in s))\n",
    "    print(any(c.isupper() for c in s))"
   ]
  },
  {
   "cell_type": "markdown",
   "metadata": {},
   "source": [
    "### Text Alignment"
   ]
  },
  {
   "cell_type": "code",
   "execution_count": null,
   "metadata": {},
   "outputs": [],
   "source": [
    "#Replace all ______ with rjust, ljust or center. \n",
    "\n",
    "thickness = int(input()) #This must be an odd number\n",
    "c = 'H'\n",
    "\n",
    "#Top Cone\n",
    "for i in range(thickness):\n",
    "    print((c*i).rjust(thickness-1)+c+(c*i).ljust(thickness-1))\n",
    "\n",
    "#Top Pillars\n",
    "for i in range(thickness+1):\n",
    "    print((c*thickness).center(thickness*2)+(c*thickness).center(thickness*6))\n",
    "\n",
    "#Middle Belt\n",
    "for i in range((thickness+1)//2):\n",
    "    print((c*thickness*5).center(thickness*6))    \n",
    "\n",
    "#Bottom Pillars\n",
    "for i in range(thickness+1):\n",
    "    print((c*thickness).center(thickness*2)+(c*thickness).center(thickness*6))    \n",
    "\n",
    "#Bottom Cone\n",
    "for i in range(thickness):\n",
    "    print(((c*(thickness-i-1)).rjust(thickness)+c+(c*(thickness-i-1)).ljust(thickness)).rjust(thickness*6))"
   ]
  },
  {
   "cell_type": "markdown",
   "metadata": {},
   "source": [
    "### Text Wrap"
   ]
  },
  {
   "cell_type": "code",
   "execution_count": null,
   "metadata": {},
   "outputs": [],
   "source": [
    "import textwrap\n",
    "\n",
    "def wrap(string, max_width):\n",
    "    s = string\n",
    "    c = 1\n",
    "    i = 0\n",
    "    while i <= len(s):\n",
    "        while c <= max_width:\n",
    "            c += 1\n",
    "            i += 1\n",
    "        s = s[:i] + '\\n' + s[i:]\n",
    "        c = 0 \n",
    "       \n",
    "    return s\n",
    "\n",
    "if __name__ == '__main__':\n",
    "    string, max_width = input(), int(input())\n",
    "    result = wrap(string, max_width)\n",
    "    print(result)"
   ]
  },
  {
   "cell_type": "markdown",
   "metadata": {},
   "source": [
    "### Designer Door Mat"
   ]
  },
  {
   "cell_type": "code",
   "execution_count": null,
   "metadata": {},
   "outputs": [],
   "source": [
    "# Enter your code here. Read input from STDIN. Print output to STDOUT\n",
    "n, m = input().split()\n",
    "n = int(n)\n",
    "m = int(m)\n",
    "c = 1\n",
    "for i in range(n):\n",
    "    if i < (n//2):\n",
    "        print(('.|.'*c).center(m, '-'))\n",
    "        c += 2\n",
    "    elif i == (n//2):\n",
    "        print('WELCOME'.center(m,'-'))\n",
    "        c -= 2\n",
    "    else:\n",
    "        print(('.|.'*c).center(m, '-'))\n",
    "        c -= 2 "
   ]
  },
  {
   "cell_type": "markdown",
   "metadata": {},
   "source": [
    "### String Formatting"
   ]
  },
  {
   "cell_type": "code",
   "execution_count": null,
   "metadata": {},
   "outputs": [],
   "source": [
    "def print_formatted(number):\n",
    "    # your code goes here\n",
    "    d = len(\"{n:b}\".format(n=number)) # distance for print\n",
    "    for i in range(1,number+1):\n",
    "        print(\"{n:{dis}d} {n:{dis}o} {n:{dis}X} {n:{dis}b}\".format(n=i, dis=d))\n",
    "\n",
    "if __name__ == '__main__':\n",
    "    n = int(input())\n",
    "    print_formatted(n)"
   ]
  },
  {
   "cell_type": "markdown",
   "metadata": {},
   "source": [
    "### Alphabet Rangoli"
   ]
  },
  {
   "cell_type": "code",
   "execution_count": null,
   "metadata": {},
   "outputs": [],
   "source": [
    "def print_rangoli(size):\n",
    "    # your code goes here\n",
    "    import string\n",
    "    w = 4*size - 3 # (size + size-1)+ (size + size-1) -1\n",
    "    s = string.ascii_lowercase\n",
    "    for i in range(1, size+1):\n",
    "        if i == 1:\n",
    "            print(s[size-1].center(w, '-'))\n",
    "        else:\n",
    "            print('-'.join(s[::-1][-size:-size+i-1]+s[size-i:size]).center(w, '-'))\n",
    "    for i in range(size-1, 0, -1):\n",
    "        if i == 1:\n",
    "            print(s[size-1].center(w, '-'))\n",
    "        else:\n",
    "            print('-'.join(s[::-1][-size:-size+i-1]+s[size-i:size]).center(w, '-'))\n",
    "        \n",
    "\n",
    "\n",
    "\n",
    "if __name__ == '__main__':\n",
    "    n = int(input())\n",
    "    print_rangoli(n)"
   ]
  },
  {
   "cell_type": "markdown",
   "metadata": {},
   "source": [
    "### Capitalize!"
   ]
  },
  {
   "cell_type": "code",
   "execution_count": null,
   "metadata": {},
   "outputs": [],
   "source": [
    "#!/bin/python3\n",
    "\n",
    "import math\n",
    "import os\n",
    "import random\n",
    "import re\n",
    "import sys\n",
    "\n",
    "# Complete the solve function below.\n",
    "def solve(s):\n",
    "    import string\n",
    "    return string.capwords(s, sep=\" \")\n",
    "\n",
    "if __name__ == '__main__':\n",
    "    fptr = open(os.environ['OUTPUT_PATH'], 'w')\n",
    "\n",
    "    s = input()\n",
    "\n",
    "    result = solve(s)\n",
    "\n",
    "    fptr.write(result + '\\n')\n",
    "\n",
    "    fptr.close()"
   ]
  },
  {
   "cell_type": "markdown",
   "metadata": {},
   "source": [
    "### The Minion Game"
   ]
  },
  {
   "cell_type": "code",
   "execution_count": null,
   "metadata": {},
   "outputs": [],
   "source": [
    "def minion_game(string):\n",
    "    # your code goes here\n",
    "    kevin = 0 # vowels\n",
    "    stuart = 0 # consonants\n",
    "    vowels = ['A', 'E', 'I' , 'O', 'U']\n",
    "    \n",
    "    for i in range(len(string)):\n",
    "        if string[i] in vowels: \n",
    "            # if the start letter is a volwe add to kevin the possible number words start with volves = len(word) - index \n",
    "            kevin += len(string) - i\n",
    "        else:\n",
    "            # if the start letter is a consonant add to kevin the possible number words start with consonant = len(word) - index\n",
    "            stuart += len(string) - i\n",
    "    \n",
    "    if kevin > stuart:\n",
    "        print('Kevin', kevin)\n",
    "    elif kevin == stuart:\n",
    "        print('Draw')\n",
    "    else:\n",
    "        print('Stuart', stuart)\n",
    "    \n",
    "if __name__ == '__main__':\n",
    "    s = input()\n",
    "    minion_game(s)"
   ]
  },
  {
   "cell_type": "markdown",
   "metadata": {},
   "source": [
    "### Merge the Tools!"
   ]
  },
  {
   "cell_type": "code",
   "execution_count": null,
   "metadata": {},
   "outputs": [],
   "source": [
    "def remove_duplicates(string):\n",
    "    new_string = ''\n",
    "    for c in string:\n",
    "        if c in new_string:\n",
    "            continue\n",
    "        else:\n",
    "            new_string += c\n",
    "    return new_string\n",
    "\n",
    "def merge_the_tools(string, k):\n",
    "    # your code goes here\n",
    "    w = []\n",
    "    for i in range(0,len(string),k): # split string in a k-letters\n",
    "        w.append(string[i:i+k])\n",
    "    w2 = []\n",
    "    for x in w:\n",
    "        w2.append(remove_duplicates(x)) # create a vector w2 with the k-letters without duplicates\n",
    "\n",
    "    print(\"\\n\".join(w2))\n",
    "if __name__ == '__main__':\n",
    "    string, k = input(), int(input())\n",
    "    merge_the_tools(string, k)"
   ]
  },
  {
   "cell_type": "markdown",
   "metadata": {},
   "source": [
    "---"
   ]
  },
  {
   "cell_type": "markdown",
   "metadata": {},
   "source": [
    "## Sets"
   ]
  },
  {
   "cell_type": "markdown",
   "metadata": {},
   "source": [
    "### Introduction to Sets"
   ]
  },
  {
   "cell_type": "code",
   "execution_count": null,
   "metadata": {},
   "outputs": [],
   "source": [
    "def average(array):\n",
    "    # your code goes here\n",
    "    return sum(set(array))/ len(set(array))\n",
    "if __name__ == '__main__':\n",
    "    n = int(input())\n",
    "    arr = list(map(int, input().split()))\n",
    "    result = average(arr)\n",
    "    print(result)"
   ]
  },
  {
   "cell_type": "markdown",
   "metadata": {},
   "source": [
    "### Symmetric Difference"
   ]
  },
  {
   "cell_type": "code",
   "execution_count": null,
   "metadata": {},
   "outputs": [],
   "source": [
    "# Enter your code here. Read input from STDIN. Print output to STDOUT\n",
    "M = input()\n",
    "l_M = set(map(int, input().split()))\n",
    "N = input()\n",
    "l_N = set(map(int, input().split()))\n",
    "\n",
    "diff = (l_M.difference(l_N)).union(l_N.difference(l_M))\n",
    "diff = sorted(diff)\n",
    "\n",
    "for x in diff:\n",
    "    print(x)"
   ]
  },
  {
   "cell_type": "markdown",
   "metadata": {},
   "source": [
    "### No Idea!"
   ]
  },
  {
   "cell_type": "code",
   "execution_count": null,
   "metadata": {},
   "outputs": [],
   "source": [
    "# Enter your code here. Read input from STDIN. Print output to STDOUT\n",
    "\n",
    "n, m = list(map(int, input().split()))\n",
    "array = (map(int, input().split()))\n",
    "A = set(map(int, input().split()))\n",
    "B =  set(map(int, input().split()))\n",
    "\n",
    "happiness = 0\n",
    "for x in array:\n",
    "    if x in A:\n",
    "        happiness += 1\n",
    "    elif x in B:\n",
    "        happiness -= 1\n",
    "\n",
    "print(happiness)"
   ]
  },
  {
   "cell_type": "markdown",
   "metadata": {},
   "source": [
    "### Set .add()"
   ]
  },
  {
   "cell_type": "code",
   "execution_count": null,
   "metadata": {},
   "outputs": [],
   "source": [
    "# Enter your code here. Read input from STDIN. Print output to STDOUT\n",
    "n = int(input())\n",
    "\n",
    "c = set()\n",
    "for i in range(n):\n",
    "    c.add(input())\n",
    "\n",
    "print(len(c))"
   ]
  },
  {
   "cell_type": "markdown",
   "metadata": {},
   "source": [
    "### Set .discard(), .remove() & .pop()"
   ]
  },
  {
   "cell_type": "code",
   "execution_count": null,
   "metadata": {},
   "outputs": [],
   "source": [
    "n = int(input())\n",
    "s = set(map(int, input().split()))\n",
    "N = int(input())\n",
    "\n",
    "for i in range(N):\n",
    "    comm = input().split()\n",
    "\n",
    "    if comm[0] == \"pop\":\n",
    "        s.pop()\n",
    "    elif comm[0] == \"remove\":\n",
    "        s.remove(int(comm[1])) \n",
    "    elif comm[0] == \"discard\":\n",
    "        s.discard(int(comm[1]))\n",
    "\n",
    "print(sum(s)) "
   ]
  },
  {
   "cell_type": "markdown",
   "metadata": {},
   "source": [
    "### Set .union() Operation"
   ]
  },
  {
   "cell_type": "code",
   "execution_count": null,
   "metadata": {},
   "outputs": [],
   "source": [
    "# Enter your code here. Read input from STDIN. Print output to STDOUT\n",
    "n = int(input())\n",
    "N = set(map(int, input().split()))\n",
    "b = int(input())\n",
    "B = set(map(int, input().split()))\n",
    "\n",
    "U = N.union(B)\n",
    "\n",
    "print(len(U))"
   ]
  },
  {
   "cell_type": "markdown",
   "metadata": {},
   "source": [
    "### Set .intersection() Operation"
   ]
  },
  {
   "cell_type": "code",
   "execution_count": null,
   "metadata": {},
   "outputs": [],
   "source": [
    "# Enter your code here. Read input from STDIN. Print output to STDOUT\n",
    "\n",
    "n = int(input())\n",
    "N = set(map(int, input().split()))\n",
    "b = int(input())\n",
    "B = set(map(int, input().split()))\n",
    "\n",
    "print(len(N.intersection(B)))"
   ]
  },
  {
   "cell_type": "markdown",
   "metadata": {},
   "source": [
    "### Set .difference() Operation"
   ]
  },
  {
   "cell_type": "code",
   "execution_count": null,
   "metadata": {},
   "outputs": [],
   "source": [
    "# Enter your code here. Read input from STDIN. Print output to STDOUT\n",
    "\n",
    "n = int(input())\n",
    "N = set(map(int, input().split()))\n",
    "b = int(input())\n",
    "B = set(map(int, input().split()))\n",
    "\n",
    "print(len(N.difference(B)))\n"
   ]
  },
  {
   "cell_type": "markdown",
   "metadata": {},
   "source": [
    "### Set .symmetric_difference() Operation"
   ]
  },
  {
   "cell_type": "code",
   "execution_count": null,
   "metadata": {},
   "outputs": [],
   "source": [
    "# Enter your code here. Read input from STDIN. Print output to STDOUT\n",
    "\n",
    "n = int(input())\n",
    "N = set(map(int, input().split()))\n",
    "b = int(input())\n",
    "B = set(map(int, input().split()))\n",
    "\n",
    "print(len(N.symmetric_difference(B)))"
   ]
  },
  {
   "cell_type": "markdown",
   "metadata": {},
   "source": [
    "### Set Mutations"
   ]
  },
  {
   "cell_type": "code",
   "execution_count": null,
   "metadata": {},
   "outputs": [],
   "source": [
    "# Enter your code here. Read input from STDIN. Print output to STDOUT\n",
    "\n",
    "a = int(input())\n",
    "A = set(map(int, input().split()))\n",
    "\n",
    "n = int(input())\n",
    "\n",
    "for i in range(n):\n",
    "    comm = input().split()\n",
    "    B = set(map(int,input().split()))\n",
    "    if comm[0] == 'update':\n",
    "        A.update(B)\n",
    "    elif comm[0] == 'intersection_update':\n",
    "        A.intersection_update(B)\n",
    "    elif comm[0] == 'difference_update':\n",
    "        A.difference_update(B)\n",
    "    elif comm[0] == 'symmetric_difference_update':\n",
    "        A.symmetric_difference_update(B)\n",
    "\n",
    "print(sum(A))"
   ]
  },
  {
   "cell_type": "markdown",
   "metadata": {},
   "source": [
    "### The Captain's Room"
   ]
  },
  {
   "cell_type": "code",
   "execution_count": null,
   "metadata": {},
   "outputs": [],
   "source": [
    "# Enter your code here. Read input from STDIN. Print output to STDOUT\n",
    "from collections import Counter\n",
    "\n",
    "n = input()\n",
    "K = list(map(int, input().split()))\n",
    "\n",
    "c = dict(Counter(K))\n",
    "print(min(c, key=lambda k: c[k]))"
   ]
  },
  {
   "cell_type": "markdown",
   "metadata": {},
   "source": [
    "### Check Subset"
   ]
  },
  {
   "cell_type": "code",
   "execution_count": null,
   "metadata": {},
   "outputs": [],
   "source": [
    "# Enter your code here. Read input from STDIN. Print output to STDOUT\n",
    "n = int(input())\n",
    "\n",
    "for i in range(n):\n",
    "    a = int(input())\n",
    "    A = set(map(int, input().split()))\n",
    "    b = int(input())\n",
    "    B = set(map(int, input().split()))\n",
    "\n",
    "    if A.issubset(B): \n",
    "        print (\"True\")\n",
    "    else: \n",
    "        print(\"False\")"
   ]
  },
  {
   "cell_type": "markdown",
   "metadata": {},
   "source": [
    "### Check Strict Superset"
   ]
  },
  {
   "cell_type": "code",
   "execution_count": null,
   "metadata": {},
   "outputs": [],
   "source": [
    "# Enter your code here. Read input from STDIN. Print output to STDOUT\n",
    "\n",
    "A = set(map(int, input().split()))\n",
    "n = int(input())\n",
    "N = []\n",
    "for i in range(n):\n",
    "    N.append(set())\n",
    "    N[i] = set(map(int, input().split()))\n",
    "\n",
    "for x in N:\n",
    "    if A.issuperset(x):\n",
    "        n -= 1\n",
    "if n == 0: # if A are superset for all set... \n",
    "    print(\"True\")\n",
    "else:\n",
    "    print(\"False\")"
   ]
  },
  {
   "cell_type": "markdown",
   "metadata": {},
   "source": [
    "---"
   ]
  },
  {
   "cell_type": "markdown",
   "metadata": {},
   "source": [
    "## Collections"
   ]
  },
  {
   "cell_type": "markdown",
   "metadata": {},
   "source": [
    "### collections.Counter()"
   ]
  },
  {
   "cell_type": "code",
   "execution_count": null,
   "metadata": {},
   "outputs": [],
   "source": [
    "# Enter your code here. Read input from STDIN. Print output to STDOUT\n",
    "from collections import Counter\n",
    "\n",
    "X = int(input())\n",
    "N = list(map(int,input().split()))\n",
    "n = int(input())\n",
    "L = []\n",
    "for i in range(n):\n",
    "    L.append(list(map(int, input().split())))\n",
    "\n",
    "c = Counter(N)\n",
    "p = 0\n",
    "for x in L:\n",
    "    if x[0] in c.keys() and c[x[0]] >0 :\n",
    "        c[x[0]] = c[x[0]]-1\n",
    "        p += x[1]\n",
    "          \n",
    "print(p)"
   ]
  },
  {
   "cell_type": "markdown",
   "metadata": {},
   "source": [
    "### DefaultDict Tutorial"
   ]
  },
  {
   "cell_type": "code",
   "execution_count": null,
   "metadata": {},
   "outputs": [],
   "source": [
    "# Enter your code here. Read input from STDIN. Print output to STDOUT\n",
    "from collections import defaultdict\n",
    "n, m = list(map(int, input().split()))\n",
    "A = defaultdict(list)\n",
    "B= []\n",
    "\n",
    "for i in range(n):\n",
    "    A[input()].append(i+1)\n",
    "for i in range(m):\n",
    "    B.append(input())\n",
    "\n",
    "for x in B: \n",
    "    if x in A:\n",
    "        print(\" \".join(map(str,A[x])))\n",
    "    else:\n",
    "        print(-1)"
   ]
  },
  {
   "cell_type": "markdown",
   "metadata": {},
   "source": [
    "### Collections.namedtuple()"
   ]
  },
  {
   "cell_type": "code",
   "execution_count": null,
   "metadata": {},
   "outputs": [],
   "source": [
    "# Enter your code here. Read input from STDIN. Print output to STDOUT\n",
    "\n",
    "n = int(input())\n",
    "names = input().split()\n",
    "idx = names.index('MARKS')\n",
    "\n",
    "s = 0\n",
    "for i in range(n):\n",
    "    s += float(input().split()[idx])\n",
    "\n",
    "print(\"{:.2f}\".format(s/n))"
   ]
  },
  {
   "cell_type": "markdown",
   "metadata": {},
   "source": [
    "### Collections.OrderedDict()"
   ]
  },
  {
   "cell_type": "code",
   "execution_count": null,
   "metadata": {},
   "outputs": [],
   "source": [
    "# Enter your code here. Read input from STDIN. Print output to STDOUT\n",
    "from collections import OrderedDict\n",
    "\n",
    "ordered_dictionary = OrderedDict()\n",
    "\n",
    "n = int(input())\n",
    "\n",
    "for i in range(n):\n",
    "    s = input().split()\n",
    "    if ' '.join(s[:-1]) in ordered_dictionary:\n",
    "        ordered_dictionary[' '.join(s[:-1])] += int(s[-1])\n",
    "    else:\n",
    "        ordered_dictionary[' '.join(s[:-1])] = int(s[-1])\n",
    "\n",
    "for x in ordered_dictionary:\n",
    "     print(x, ordered_dictionary[x])"
   ]
  },
  {
   "cell_type": "markdown",
   "metadata": {},
   "source": [
    "### Word Order"
   ]
  },
  {
   "cell_type": "code",
   "execution_count": null,
   "metadata": {},
   "outputs": [],
   "source": [
    "# Enter your code here. Read input from STDIN. Print output to STDOUT\n",
    "\n",
    "from collections import OrderedDict\n",
    "\n",
    "n = int(input())\n",
    "\n",
    "s = set()\n",
    "ordered_dictionary = OrderedDict()\n",
    "\n",
    "\n",
    "for i in range(n):\n",
    "    inpt = input()\n",
    "    s.add(inpt)\n",
    "    if inpt in ordered_dictionary:\n",
    "        ordered_dictionary[inpt] += 1\n",
    "    else:\n",
    "        ordered_dictionary[inpt] = 1\n",
    "\n",
    "v = list(ordered_dictionary.values())\n",
    "\n",
    "print(len(s))\n",
    "for x in v:\n",
    "    print(x, end=' ')"
   ]
  },
  {
   "cell_type": "markdown",
   "metadata": {},
   "source": [
    "### Collections.deque()"
   ]
  },
  {
   "cell_type": "code",
   "execution_count": null,
   "metadata": {},
   "outputs": [],
   "source": [
    "# Enter your code here. Read input from STDIN. Print output to STDOUT\n",
    "\n",
    "from collections import deque\n",
    "\n",
    "n = int(input())\n",
    "d = deque()\n",
    "\n",
    "for i in range(n):\n",
    "    inpt = input().split()\n",
    "    if inpt[0] == 'append':\n",
    "        d.append(int(inpt[1]))\n",
    "    elif inpt[0] == 'pop':\n",
    "        d.pop()\n",
    "    elif inpt[0] == 'popleft':\n",
    "        d.popleft()\n",
    "    elif inpt[0] == 'appendleft':\n",
    "        d.appendleft(inpt[1])\n",
    "\n",
    "for x in d:\n",
    "    print(x, end=' ')"
   ]
  },
  {
   "cell_type": "markdown",
   "metadata": {},
   "source": [
    "### Company Logo"
   ]
  },
  {
   "cell_type": "code",
   "execution_count": null,
   "metadata": {},
   "outputs": [],
   "source": [
    "#!/bin/python3\n",
    "\n",
    "import math\n",
    "import os\n",
    "import random\n",
    "import re\n",
    "import sys\n",
    "from collections import defaultdict\n",
    "\n",
    "if __name__ == '__main__':\n",
    "    s = input()\n",
    "    d = defaultdict()\n",
    "    \n",
    "    for c in s: # count character c in s\n",
    "        if c in d:\n",
    "            d[c] += 1\n",
    "        else:\n",
    "            d[c] = 1\n",
    "    d = sorted(d.items(), key=lambda x: (-x[1], x[0])) # sorted d\n",
    "    for x in d[:3]:\n",
    "        print(x[0], x[1])"
   ]
  },
  {
   "cell_type": "markdown",
   "metadata": {},
   "source": [
    "### Piling Up!"
   ]
  },
  {
   "cell_type": "code",
   "execution_count": null,
   "metadata": {},
   "outputs": [],
   "source": [
    "# Enter your code here. Read input from STDIN. Print output to STDOUT\n",
    "def pling_up(lst):\n",
    "    m_idx = lst.index(min(lst)) # index of min in lst\n",
    "    l = len(lst)\n",
    "    for i in range(l):\n",
    "        c = len(lst)\n",
    "        if m_idx < c-1 and m_idx > 0: # if index m_idx in [1,len(lst) - 1]\n",
    "            if lst[m_idx] <= lst[m_idx +1] and lst[m_idx +1] <= lst[m_idx -1]: # if the current value is lower than the left value, delete it.\n",
    "                del lst[m_idx]\n",
    "            elif lst[m_idx] <= lst[m_idx -1]: # if the current value is lower than the right value, delete it and update de m_idx.\n",
    "                del lst[m_idx]\n",
    "                m_idx -= 1\n",
    "                if m_idx < 1:\n",
    "                    m_idx = 0\n",
    "            else:\n",
    "                break\n",
    "        elif m_idx == c-1: # if index m_idx == len(lst) -1, if current value is lower than the left value, delete it and update index.\n",
    "            if lst[m_idx] <= lst[m_idx -1]:\n",
    "                del lst[m_idx]\n",
    "                m_idx -= 1\n",
    "                if m_idx < 1:\n",
    "                    m_idx = 0\n",
    "            else:\n",
    "                break\n",
    "        elif m_idx == 0: # if index m_idx == o, if current value is lower than the right value, delete it.\n",
    "            if lst[m_idx] <= lst[m_idx +1]:\n",
    "                del lst[m_idx]\n",
    "            else:\n",
    "                break\n",
    "    if len(lst)>0: # it is impossible to stack the cubes\n",
    "        return 'No'\n",
    "    else:\n",
    "        return 'Yes'\n",
    "\n",
    "T = int(input())\n",
    "\n",
    "for i in range(T):\n",
    "    n = int(input())\n",
    "    cubes = list(map(int, input().split()))\n",
    "    print(pling_up(cubes))\n"
   ]
  },
  {
   "cell_type": "markdown",
   "metadata": {},
   "source": [
    "---"
   ]
  },
  {
   "cell_type": "markdown",
   "metadata": {},
   "source": [
    "## Date and Time"
   ]
  },
  {
   "cell_type": "markdown",
   "metadata": {},
   "source": [
    "### Calendar Module"
   ]
  },
  {
   "cell_type": "code",
   "execution_count": null,
   "metadata": {},
   "outputs": [],
   "source": [
    "# Enter your code here. Read input from STDIN. Print output to STDOUT\n",
    "from datetime import date\n",
    "\n",
    "week = ['MONDAY', 'TUESDAY', 'WEDNESDAY', 'THURSDAY', 'FRIDAY', 'SATURDAY', 'SUNDAY']\n",
    "\n",
    "inp = list(map(int,input().split()))\n",
    "data = date(inp[2], inp[0], inp[1])\n",
    "print(week[data.weekday()])"
   ]
  },
  {
   "cell_type": "markdown",
   "metadata": {},
   "source": [
    "### Time Delta"
   ]
  },
  {
   "cell_type": "code",
   "execution_count": null,
   "metadata": {},
   "outputs": [],
   "source": [
    "#!/bin/python3\n",
    "\n",
    "import math\n",
    "import os\n",
    "import random\n",
    "import re\n",
    "import sys\n",
    "from datetime import datetime, timedelta\n",
    "import time\n",
    "# Complete the time_delta function below.\n",
    "def time_delta(t1, t2):\n",
    "    data1 = datetime.strptime(t1,'%a %d %b %Y %H:%M:%S %z')\n",
    "    data2 = datetime.strptime(t2,'%a %d %b %Y %H:%M:%S %z')\n",
    "    \n",
    "    return str(int(abs((data1 - data2).total_seconds())))\n",
    "\n",
    "if __name__ == '__main__':\n",
    "    fptr = open(os.environ['OUTPUT_PATH'], 'w')\n",
    "\n",
    "    t = int(input())\n",
    "\n",
    "    for t_itr in range(t):\n",
    "        t1 = input()\n",
    "\n",
    "        t2 = input()\n",
    "\n",
    "        delta = time_delta(t1, t2)\n",
    "\n",
    "        fptr.write(delta + '\\n')\n",
    "\n",
    "    fptr.close()"
   ]
  },
  {
   "cell_type": "markdown",
   "metadata": {},
   "source": [
    "---"
   ]
  },
  {
   "cell_type": "markdown",
   "metadata": {},
   "source": [
    "## Exceptions"
   ]
  },
  {
   "cell_type": "markdown",
   "metadata": {},
   "source": [
    "### Exceptions"
   ]
  },
  {
   "cell_type": "code",
   "execution_count": null,
   "metadata": {},
   "outputs": [],
   "source": [
    "# Enter your code here. Read input from STDIN. Print output to STDOUT\n",
    "\n",
    "n = int(input())\n",
    "\n",
    "for i in range(n):\n",
    "    try:\n",
    "        a, b = list(map(int, input().split()))\n",
    "    except ValueError as e:\n",
    "         print(\"Error Code:\",e)\n",
    "         continue\n",
    "    try:\n",
    "        print(a//b)\n",
    "    except ZeroDivisionError as e:\n",
    "        print(\"Error Code:\",e)"
   ]
  },
  {
   "cell_type": "markdown",
   "metadata": {},
   "source": [
    "---"
   ]
  },
  {
   "cell_type": "markdown",
   "metadata": {},
   "source": [
    "## Built-ins"
   ]
  },
  {
   "cell_type": "markdown",
   "metadata": {},
   "source": [
    "### Zipped!"
   ]
  },
  {
   "cell_type": "code",
   "execution_count": null,
   "metadata": {},
   "outputs": [],
   "source": [
    "# Enter your code here. Read input from STDIN. Print output to STDOUT\n",
    "N, X = list(map(int, input().split()))\n",
    "\n",
    "L = []\n",
    "for i in range(X):\n",
    "    L.append(list(map(float, input().split())))\n",
    "\n",
    "L= list(zip(*L))\n",
    "\n",
    "for x in L:\n",
    "    print('{:.1f}'.format(sum(x)/X))"
   ]
  },
  {
   "cell_type": "markdown",
   "metadata": {},
   "source": [
    "### Athlete Sort"
   ]
  },
  {
   "cell_type": "code",
   "execution_count": null,
   "metadata": {},
   "outputs": [],
   "source": [
    "#!/bin/python3\n",
    "\n",
    "import math\n",
    "import os\n",
    "import random\n",
    "import re\n",
    "import sys\n",
    "\n",
    "\n",
    "\n",
    "if __name__ == '__main__':\n",
    "    nm = input().split()\n",
    "\n",
    "    n = int(nm[0])\n",
    "\n",
    "    m = int(nm[1])\n",
    "\n",
    "    arr = []\n",
    "\n",
    "    for _ in range(n):\n",
    "        arr.append(list(map(int, input().rstrip().split())))\n",
    "\n",
    "    k = int(input())\n",
    "\n",
    "arr = sorted(arr, key= lambda x: x[k])\n",
    "for x in arr:\n",
    "    print(' '.join(map(str,x)))"
   ]
  },
  {
   "cell_type": "markdown",
   "metadata": {},
   "source": [
    "### ginortS"
   ]
  },
  {
   "cell_type": "code",
   "execution_count": null,
   "metadata": {},
   "outputs": [],
   "source": [
    "# Enter your code here. Read input from STDIN. Print output to STDOUT\n",
    "import string\n",
    "\n",
    "low = list(string.ascii_lowercase)\n",
    "upp = list(string.ascii_uppercase)\n",
    "dig = list(string.digits)\n",
    "\n",
    "L = [] # lowercase character list\n",
    "U = [] # uppercase character list\n",
    "D_o = [] # odd number list\n",
    "D_e = [] # even numer list\n",
    "s = list(input())\n",
    "for x in s:\n",
    "    if x in low:\n",
    "        L.append(x)\n",
    "    elif x in upp:\n",
    "        U.append(x)\n",
    "    elif x in dig and int(x)%2 == 0:\n",
    "        D_e.append(x)\n",
    "    elif x in dig and int(x)% 2 ==1:\n",
    "        D_o.append(x)\n",
    "print(''.join(sorted(L)+sorted(U)+sorted(D_o)+sorted(D_e)), end='')"
   ]
  },
  {
   "cell_type": "markdown",
   "metadata": {},
   "source": [
    "---"
   ]
  },
  {
   "cell_type": "markdown",
   "metadata": {},
   "source": [
    "## Python Functionals"
   ]
  },
  {
   "cell_type": "markdown",
   "metadata": {},
   "source": [
    "### Map and Lambda Function"
   ]
  },
  {
   "cell_type": "code",
   "execution_count": null,
   "metadata": {},
   "outputs": [],
   "source": [
    "cube = lambda x: x*x*x # complete the lambda function \n",
    "\n",
    "def fibonacci(n):\n",
    "    # return a list of fibonacci numbers\n",
    "    if n == 0:\n",
    "        L = []\n",
    "    elif n == 1:\n",
    "        L = [0]\n",
    "    elif n == 2:\n",
    "        L = [0, 1]\n",
    "    else:\n",
    "        L = [0, 1]\n",
    "        for i in range(2, n):\n",
    "            L.append(L[i-1]+L[i-2])\n",
    "    return L\n",
    "\n",
    "if __name__ == '__main__':\n",
    "    n = int(input())\n",
    "    print(list(map(cube, fibonacci(n))))"
   ]
  },
  {
   "cell_type": "markdown",
   "metadata": {},
   "source": [
    "---"
   ]
  },
  {
   "cell_type": "markdown",
   "metadata": {},
   "source": [
    "## Regex and Parsing challeng"
   ]
  },
  {
   "cell_type": "markdown",
   "metadata": {},
   "source": [
    "### Detect Floating Point Number"
   ]
  },
  {
   "cell_type": "code",
   "execution_count": null,
   "metadata": {},
   "outputs": [],
   "source": [
    "# Enter your code here. Read input from STDIN. Print output to STDOUT\n",
    "import re\n",
    "\n",
    "n = int(input())\n",
    "\n",
    "for i in range(n):\n",
    "    s = input()\n",
    "    print(bool(re.match('^[+-]?\\d*?\\.{1}\\d+$',s)))"
   ]
  },
  {
   "cell_type": "markdown",
   "metadata": {},
   "source": [
    "### Re.split()"
   ]
  },
  {
   "cell_type": "code",
   "execution_count": null,
   "metadata": {},
   "outputs": [],
   "source": [
    "regex_pattern = r\"\\,|\\.\"\t# Do not delete 'r'.\n",
    "\n",
    "import re\n",
    "print(\"\\n\".join(re.split(regex_pattern, input())))"
   ]
  },
  {
   "cell_type": "markdown",
   "metadata": {},
   "source": [
    "### Group(), Groups() & Groupdict()"
   ]
  },
  {
   "cell_type": "code",
   "execution_count": null,
   "metadata": {},
   "outputs": [],
   "source": [
    "# Enter your code here. Read input from STDIN. Print output to STDOUT\n",
    "import re\n",
    "\n",
    "s = input()\n",
    "\n",
    "m =re.search(r'([a-zA-Z0-9])\\1+', s)\n",
    "if m:\n",
    "    print(m.group(1))\n",
    "else:\n",
    "    print(-1)"
   ]
  },
  {
   "cell_type": "markdown",
   "metadata": {},
   "source": [
    "### Re.findall() & Re.finditer()"
   ]
  },
  {
   "cell_type": "code",
   "execution_count": null,
   "metadata": {},
   "outputs": [],
   "source": [
    "# Enter your code here. Read input from STDIN. Print output to STDOUT\n",
    "\n",
    "import re\n",
    "\n",
    "s = input()\n",
    "e = r\"[QWRTYPSDFGHJKLZXCVBNMqwrtypsdfghjklzxcvbnm]([AEIOUaeiou]{2,})(?=[QWRTYPSDFGHJKLZXCVBNMqwrtypsdfghjklzxcvbnm])\"\n",
    "f = re.findall(e,s)\n",
    "if f:\n",
    "    for x in f:\n",
    "        print(x)\n",
    "else:\n",
    "    print(-1)"
   ]
  },
  {
   "cell_type": "markdown",
   "metadata": {},
   "source": [
    "### Re.start() & Re.end()"
   ]
  },
  {
   "cell_type": "code",
   "execution_count": null,
   "metadata": {},
   "outputs": [],
   "source": [
    "# Enter your code here. Read input from STDIN. Print output to STDOUT\n",
    "import re\n",
    "\n",
    "s = input()\n",
    "k = input()\n",
    "\n",
    "r = []\n",
    "for i in range(len(s)-len(k)+1):\n",
    "    if s[i:i+len(k)]==k:\n",
    "        r.append(i)\n",
    "if r:\n",
    "    for x in r: \n",
    "        print((x, x+len(k)-1))\n",
    "else:\n",
    "    print((-1,-1))\n"
   ]
  },
  {
   "cell_type": "markdown",
   "metadata": {},
   "source": [
    "### Regex Substitution"
   ]
  },
  {
   "cell_type": "code",
   "execution_count": null,
   "metadata": {},
   "outputs": [],
   "source": [
    "# Enter your code here. Read input from STDIN. Print output to STDOUT\n",
    "import re\n",
    "\n",
    "n = int(input())\n",
    "\n",
    "L= []\n",
    "for i in range(n):\n",
    "    x = input()\n",
    "    x = re.sub(r\"(?<= )&&(?= )\", 'and', x)\n",
    "    x = re.sub(r\"(?<= )\\|\\|(?= )\", 'or', x)\n",
    "    L.append([x])\n",
    "\n",
    "for x in L:\n",
    "    print(x[0])"
   ]
  },
  {
   "cell_type": "markdown",
   "metadata": {},
   "source": [
    "### Validating Roman Numerals"
   ]
  },
  {
   "cell_type": "code",
   "execution_count": null,
   "metadata": {},
   "outputs": [],
   "source": [
    "regex_pattern = r\"^M{0,3}(C[MD]|D?C{0,3})(X[CL]|L?X{0,3})(I[VX]|V?I{0,3})$\"\t# Do not delete 'r'.\n",
    "\n",
    "import re\n",
    "print(str(bool(re.match(regex_pattern, input()))))"
   ]
  },
  {
   "cell_type": "markdown",
   "metadata": {},
   "source": [
    "### Validating phone numbers"
   ]
  },
  {
   "cell_type": "code",
   "execution_count": null,
   "metadata": {},
   "outputs": [],
   "source": [
    "# Enter your code here. Read input from STDIN. Print output to STDOUT\n",
    "import re\n",
    "\n",
    "n = int(input())\n",
    "regex = \"^([789][0-9]{9})$\"\n",
    "for i in range(n):\n",
    "    print('YES' if bool(re.match(regex, input())) else 'NO')"
   ]
  },
  {
   "cell_type": "markdown",
   "metadata": {},
   "source": [
    "### Validating and Parsing Email Addresses"
   ]
  },
  {
   "cell_type": "code",
   "execution_count": null,
   "metadata": {},
   "outputs": [],
   "source": [
    "# Enter your code here. Read input from STDIN. Print output to STDOUT\n",
    "import re\n",
    "n = int(input())\n",
    "\n",
    "regex = '<[a-z][a-zA-Z0-9\\-\\.\\_]+@[a-zA-Z]+\\.[a-zA-Z]{1,3}>'\n",
    "for i in range(n):\n",
    "    name, x = input().split()\n",
    "    if re.match(regex, x):\n",
    "        print(name, x)"
   ]
  },
  {
   "cell_type": "markdown",
   "metadata": {},
   "source": [
    "### Hex Color Code"
   ]
  },
  {
   "cell_type": "code",
   "execution_count": null,
   "metadata": {},
   "outputs": [],
   "source": [
    "# Enter your code here. Read input from STDIN. Print output to STDOUT\n",
    "import re\n",
    "\n",
    "regex = '#[0-9a-fA-F]{3,6}'\n",
    "n = int(input())\n",
    "ok = -1\n",
    "for i in range(n):\n",
    "    x = input() \n",
    "    if not len(x)>0:\n",
    "        pass\n",
    "    elif x[-1] == '{': # start the search\n",
    "        ok = 1\n",
    "    elif x[-1] == '}': # end the search\n",
    "        ok = -1\n",
    "    elif ok == 1:\n",
    "        for y in re.findall(regex,x):\n",
    "            print(y)"
   ]
  },
  {
   "cell_type": "markdown",
   "metadata": {},
   "source": [
    "### HTML Parser - Part 1"
   ]
  },
  {
   "cell_type": "code",
   "execution_count": null,
   "metadata": {},
   "outputs": [],
   "source": [
    "# Enter your code here. Read input from STDIN. Print output to STDOUT\n",
    "from html.parser import HTMLParser\n",
    "\n",
    "class MyHTMLParser(HTMLParser):\n",
    "    def handle_starttag(self, tag, attrs):\n",
    "        print(\"Start :\",tag)\n",
    "        for x in attrs: \n",
    "            print(\"->\", str(x[0]), \">\", str(x[1]))\n",
    "    def handle_endtag(self, tag):\n",
    "        print(\"End   :\", tag)\n",
    "    def handle_startendtag(self, tag, attrs):\n",
    "        print(\"Empty :\", tag)\n",
    "        for x in attrs: \n",
    "            print(\"->\", x[0], \">\", str(x[1]))\n",
    "\n",
    "parser = MyHTMLParser()\n",
    "\n",
    "n = int(input())\n",
    "for i in range(n):\n",
    "    x = input()\n",
    "    parser.feed(x)"
   ]
  },
  {
   "cell_type": "markdown",
   "metadata": {},
   "source": [
    "### HTML Parser - Part 2"
   ]
  },
  {
   "cell_type": "code",
   "execution_count": null,
   "metadata": {},
   "outputs": [],
   "source": [
    "from html.parser import HTMLParser\n",
    "\n",
    "class MyHTMLParser(HTMLParser):\n",
    "    def handle_comment(self, data):\n",
    "        if \"\\n\" in data:\n",
    "            print(\">>> Multi-line Comment\")\n",
    "        else:\n",
    "            print(\">>> Single-line Comment\")\n",
    "        print(data)\n",
    "    def handle_data(self, data):\n",
    "        if data.strip():\n",
    "            print(\">>> Data\")\n",
    "            print(data)\n",
    "  \n",
    "html = \"\"       \n",
    "for i in range(int(input())):\n",
    "    html += input().rstrip()\n",
    "    html += '\\n'\n",
    "    \n",
    "parser = MyHTMLParser()\n",
    "parser.feed(html)\n",
    "parser.close()"
   ]
  },
  {
   "cell_type": "markdown",
   "metadata": {},
   "source": [
    "### Detect HTML Tags, Attributes and Attribute Values"
   ]
  },
  {
   "cell_type": "code",
   "execution_count": null,
   "metadata": {},
   "outputs": [],
   "source": [
    "# Enter your code here. Read input from STDIN. Print output to STDOUT\n",
    "from html.parser import HTMLParser\n",
    "\n",
    "class MyHTMLParser(HTMLParser):\n",
    "    def handle_starttag(self, tag, attrs):\n",
    "        print(tag)\n",
    "        for x in attrs:\n",
    "            print(\"->\", x[0], \">\", x[1])\n",
    "\n",
    "    def handle_startendtag(self, tag, attrs):\n",
    "        print(tag)\n",
    "        for x in attrs:\n",
    "            print(\"->\", x[0], \">\", x[1])\n",
    "\n",
    "html = ''\n",
    "n = int(input())\n",
    "for i in range(n):\n",
    "    html += input() + '\\n'\n",
    "\n",
    "parser = MyHTMLParser()\n",
    "parser.feed(html)"
   ]
  },
  {
   "cell_type": "markdown",
   "metadata": {},
   "source": [
    "### Validating UID"
   ]
  },
  {
   "cell_type": "code",
   "execution_count": null,
   "metadata": {},
   "outputs": [],
   "source": [
    "# Enter your code here. Read input from STDIN. Print output to STDOUT\n",
    "import re\n",
    "\n",
    "regex = ''\n",
    "\n",
    "n = int(input())\n",
    "\n",
    "for i in range(n):\n",
    "    x = input()\n",
    "    if bool(re.search(r'(.*[A-Z]){2,}',x)) and bool(re.search(r'(.*[0-9]){3,}',x)):\n",
    "        print('Invalid' if bool(re.match(r'.*(.).*\\1+.*',x)) else 'Valid')\n",
    "    else:\n",
    "        print('Invalid')"
   ]
  },
  {
   "cell_type": "markdown",
   "metadata": {},
   "source": [
    "### Validating Credit Card Numbers"
   ]
  },
  {
   "cell_type": "code",
   "execution_count": null,
   "metadata": {},
   "outputs": [],
   "source": [
    "# Enter your code here. Read input from STDIN. Print output to STDOUT\n",
    "import re\n",
    "\n",
    "N = int(input())\n",
    "regex = '^([456][0-9]{3}-[0-9]{4}-[0-9]{4}-[0-9]{4})|([456][0-9]{3}[0-9]{4}[0-9]{4}[0-9]{4})$'\n",
    "\n",
    "for i in range(N):\n",
    "    s = input()\n",
    "    if re.search(regex, s) and (len(s)==16 or len(s)==19) :\n",
    "        s = ''.join(s.split('-'))\n",
    "        if re.search(r'(\\d)\\1{3,}', s): # if there are 4 or more repetitions ---> invalid!\n",
    "            print('Invalid')\n",
    "        else:\n",
    "            print('Valid')    \n",
    "    else:\n",
    "        print('Invalid')  \n"
   ]
  },
  {
   "cell_type": "markdown",
   "metadata": {},
   "source": [
    "### Validating Postal Codes"
   ]
  },
  {
   "cell_type": "code",
   "execution_count": null,
   "metadata": {},
   "outputs": [],
   "source": [
    "regex_integer_in_range = r\"^[1-9][0-9][0-9][0-9][0-9][0-9]$\"\t# Do not delete 'r'.\n",
    "regex_alternating_repetitive_digit_pair = r\"(\\d)(?=\\d\\1)\"\t# Do not delete 'r'.\n",
    "\n",
    "\n",
    "import re\n",
    "P = input()\n",
    "\n",
    "print (bool(re.match(regex_integer_in_range, P)) \n",
    "and len(re.findall(regex_alternating_repetitive_digit_pair, P)) < 2)"
   ]
  },
  {
   "cell_type": "markdown",
   "metadata": {},
   "source": [
    "### Matrix Script"
   ]
  },
  {
   "cell_type": "code",
   "execution_count": null,
   "metadata": {},
   "outputs": [],
   "source": [
    "#!/bin/python3\n",
    "\n",
    "import math\n",
    "import os\n",
    "import random\n",
    "import re\n",
    "import sys\n",
    "\n",
    "first_multiple_input = input().rstrip().split()\n",
    "\n",
    "n = int(first_multiple_input[0])\n",
    "\n",
    "m = int(first_multiple_input[1])\n",
    "\n",
    "matrix = []\n",
    "\n",
    "for _ in range(n):\n",
    "    matrix_item = input()\n",
    "    matrix.append(matrix_item)\n",
    "\n",
    "\n",
    "s = ''.join([''.join(x) for x in list(zip(*matrix))])\n",
    "s = re.sub(r'(?<=[A-Za-z0-9])[!@#$%& ]+(?=[A-Za-z0-9])',' ', s)\n",
    "print(s)"
   ]
  },
  {
   "cell_type": "markdown",
   "metadata": {},
   "source": [
    "---"
   ]
  },
  {
   "cell_type": "markdown",
   "metadata": {},
   "source": [
    "## XML"
   ]
  },
  {
   "cell_type": "markdown",
   "metadata": {},
   "source": [
    "### XML 1 - Find the Score"
   ]
  },
  {
   "cell_type": "code",
   "execution_count": null,
   "metadata": {},
   "outputs": [],
   "source": [
    "import sys\n",
    "import xml.etree.ElementTree as etree\n",
    "\n",
    "def get_attr_number(node):\n",
    "    # your code goes here\n",
    "    count = 0\n",
    "    for element in node.iter():\n",
    "        count += len(element.attrib)\n",
    "    return count\n",
    "\n",
    "if __name__ == '__main__':\n",
    "    sys.stdin.readline()\n",
    "    xml = sys.stdin.read()\n",
    "    tree = etree.ElementTree(etree.fromstring(xml))\n",
    "    root = tree.getroot()\n",
    "    print(get_attr_number(root))"
   ]
  },
  {
   "cell_type": "markdown",
   "metadata": {},
   "source": [
    "### XML2 - Find the Maximum Depth"
   ]
  },
  {
   "cell_type": "code",
   "execution_count": null,
   "metadata": {},
   "outputs": [],
   "source": [
    "import xml.etree.ElementTree as etree\n",
    "\n",
    "maxdepth = 0\n",
    "def depth(elem, level):\n",
    "    global maxdepth\n",
    "    # your code goes here\n",
    "    if (level == maxdepth):\n",
    "        maxdepth += 1\n",
    "        \n",
    "    for x in elem:\n",
    "        depth(x, level + 1)\n",
    "\n",
    "if __name__ == '__main__':\n",
    "    n = int(input())\n",
    "    xml = \"\"\n",
    "    for i in range(n):\n",
    "        xml =  xml + input() + \"\\n\"\n",
    "    tree = etree.ElementTree(etree.fromstring(xml))\n",
    "    depth(tree.getroot(), -1)\n",
    "    print(maxdepth)"
   ]
  },
  {
   "cell_type": "markdown",
   "metadata": {},
   "source": [
    "---"
   ]
  },
  {
   "cell_type": "markdown",
   "metadata": {},
   "source": [
    "## Closures and Decorations"
   ]
  },
  {
   "cell_type": "markdown",
   "metadata": {},
   "source": [
    "### Standardize Mobile Number Using Decorators"
   ]
  },
  {
   "cell_type": "code",
   "execution_count": null,
   "metadata": {},
   "outputs": [],
   "source": [
    "def wrapper(f):\n",
    "    def fun(l):\n",
    "        # complete the function\n",
    "        for i in range(len(l)):\n",
    "            l[i] = \"+91\" + \" \" + l[i][-10:-5] + \" \" + l[i][-5:]\n",
    "        return f(l)\n",
    "    return fun\n",
    "\n",
    "@wrapper\n",
    "def sort_phone(l):\n",
    "    print(*sorted(l), sep='\\n')\n",
    "\n",
    "if __name__ == '__main__':\n",
    "    l = [input() for _ in range(int(input()))]\n",
    "    sort_phone(l)"
   ]
  },
  {
   "cell_type": "markdown",
   "metadata": {},
   "source": [
    "### Decorators 2 - Name Directory"
   ]
  },
  {
   "cell_type": "code",
   "execution_count": null,
   "metadata": {},
   "outputs": [],
   "source": [
    "import operator\n",
    "\n",
    "def person_lister(f):\n",
    "    def inner(people):\n",
    "        # complete the function\n",
    "        return map(f, sorted(people, key=lambda x: int(x[2])))  \n",
    "    return inner\n",
    "\n",
    "@person_lister\n",
    "def name_format(person):\n",
    "    return (\"Mr. \" if person[3] == \"M\" else \"Ms. \") + person[0] + \" \" + person[1]\n",
    "\n",
    "if __name__ == '__main__':\n",
    "    people = [input().split() for i in range(int(input()))]\n",
    "    print(*name_format(people), sep='\\n')"
   ]
  },
  {
   "cell_type": "markdown",
   "metadata": {},
   "source": [
    "---"
   ]
  },
  {
   "cell_type": "markdown",
   "metadata": {},
   "source": [
    "## Numpy"
   ]
  },
  {
   "cell_type": "markdown",
   "metadata": {},
   "source": [
    "### Arrays"
   ]
  },
  {
   "cell_type": "code",
   "execution_count": null,
   "metadata": {},
   "outputs": [],
   "source": [
    "import numpy\n",
    "\n",
    "def arrays(arr):\n",
    "    # complete this function\n",
    "    # use numpy.array\n",
    "    arr.reverse()\n",
    "    return numpy.array(list(map(float,arr)))\n",
    "\n",
    "arr = input().strip().split(' ')\n",
    "result = arrays(arr)\n",
    "print(result)"
   ]
  },
  {
   "cell_type": "markdown",
   "metadata": {},
   "source": [
    "### Shape and Reshape"
   ]
  },
  {
   "cell_type": "code",
   "execution_count": null,
   "metadata": {},
   "outputs": [],
   "source": [
    "import numpy\n",
    "\n",
    "arr = numpy.array(list(map(int, input().split())))\n",
    "print(numpy.reshape(arr,(3,3)))"
   ]
  },
  {
   "cell_type": "markdown",
   "metadata": {},
   "source": [
    "### Transpose and Flatten"
   ]
  },
  {
   "cell_type": "code",
   "execution_count": null,
   "metadata": {},
   "outputs": [],
   "source": [
    "import numpy\n",
    "\n",
    "N, M = list(map(int, input().split()))\n",
    "l = []\n",
    "for i in range(N):\n",
    "    l.append(list(map(int,input().split())))\n",
    "my_array = numpy.array(l)\n",
    "\n",
    "\n",
    "print(numpy.transpose(my_array))\n",
    "print(my_array.flatten())"
   ]
  },
  {
   "cell_type": "markdown",
   "metadata": {},
   "source": [
    "### Concatenate"
   ]
  },
  {
   "cell_type": "code",
   "execution_count": null,
   "metadata": {},
   "outputs": [],
   "source": [
    "import numpy\n",
    "\n",
    "N, M, P = list(map(int, input().split()))\n",
    "l1 = []\n",
    "l2 = []\n",
    "for i in range(N):\n",
    "    l1.append(list(map(int, input().split())))\n",
    "for i in range(M):\n",
    "    l2.append(list(map(int, input().split())))\n",
    "\n",
    "arr1 = numpy.array(l1)\n",
    "arr2 = numpy.array(l2)\n",
    "\n",
    "print(numpy.concatenate((arr1, arr2), axis = 0))"
   ]
  },
  {
   "cell_type": "markdown",
   "metadata": {},
   "source": [
    "### Zeros and Ones"
   ]
  },
  {
   "cell_type": "code",
   "execution_count": null,
   "metadata": {},
   "outputs": [],
   "source": [
    "import numpy\n",
    "\n",
    "a = list(map(int, input().split()))\n",
    "\n",
    "print(numpy.zeros(a, int))\n",
    "print(numpy.ones(a, int))"
   ]
  },
  {
   "cell_type": "markdown",
   "metadata": {},
   "source": [
    "### Eye and Identity"
   ]
  },
  {
   "cell_type": "code",
   "execution_count": null,
   "metadata": {},
   "outputs": [],
   "source": [
    "import numpy\n",
    "n,m = list(map(int, input().split()))\n",
    "\n",
    "numpy.set_printoptions(sign=' ') # seen from discussions\n",
    "print(numpy.eye(n,m, dtype=float))"
   ]
  },
  {
   "cell_type": "markdown",
   "metadata": {},
   "source": [
    "### Array Mathematics"
   ]
  },
  {
   "cell_type": "code",
   "execution_count": null,
   "metadata": {},
   "outputs": [],
   "source": [
    "import numpy\n",
    "\n",
    "N,M = list(map(int, input().split()))\n",
    "\n",
    "l1 = []\n",
    "l2 = []\n",
    "\n",
    "for i in range(N):\n",
    "    l1.append(list(map(int,input().split())))\n",
    "\n",
    "for i in range(N):\n",
    "    l2.append(list(map(int,input().split())))\n",
    "a = numpy.array(l1)\n",
    "b = numpy.array(l2)\n",
    "\n",
    "print(numpy.add(a, b))\n",
    "print(numpy.subtract(a, b))\n",
    "print(numpy.multiply(a, b))\n",
    "print(a//b)   \n",
    "print(numpy.mod(a, b))\n",
    "print(numpy.power(a, b))"
   ]
  },
  {
   "cell_type": "markdown",
   "metadata": {},
   "source": [
    "### Floor, Ceil and Rint"
   ]
  },
  {
   "cell_type": "code",
   "execution_count": null,
   "metadata": {},
   "outputs": [],
   "source": [
    "import numpy\n",
    "\n",
    "l = list(map(float, input().split()))\n",
    "\n",
    "my_array = numpy.array(l)\n",
    "numpy.set_printoptions(sign=' ')\n",
    "\n",
    "print(numpy.floor(my_array))\n",
    "print(numpy.ceil(my_array))\n",
    "print(numpy.rint(my_array))"
   ]
  },
  {
   "cell_type": "markdown",
   "metadata": {},
   "source": [
    "### Sum and Prod"
   ]
  },
  {
   "cell_type": "code",
   "execution_count": null,
   "metadata": {},
   "outputs": [],
   "source": [
    "import numpy\n",
    "\n",
    "N, M = list(map(int,input().split()))\n",
    "\n",
    "l = []\n",
    "for i in range(N):\n",
    "    l.append(list(map(int,input().split())))\n",
    "\n",
    "my_array = numpy.array(l)\n",
    "print(numpy.prod(numpy.sum(my_array, axis = 0)))"
   ]
  },
  {
   "cell_type": "markdown",
   "metadata": {},
   "source": [
    "### Min and Max"
   ]
  },
  {
   "cell_type": "code",
   "execution_count": null,
   "metadata": {},
   "outputs": [],
   "source": [
    "import numpy\n",
    "\n",
    "N, M = list(map(int,input().split()))\n",
    "L = []\n",
    "\n",
    "for i in range(N):\n",
    "    L.append(list(map(int,input().split())))\n",
    "\n",
    "my_array = numpy.array(L)\n",
    "\n",
    "print(numpy.max(numpy.min(my_array, axis = 1)))"
   ]
  },
  {
   "cell_type": "markdown",
   "metadata": {},
   "source": [
    "### Mean, Var, and Std"
   ]
  },
  {
   "cell_type": "code",
   "execution_count": null,
   "metadata": {},
   "outputs": [],
   "source": [
    "import numpy\n",
    "\n",
    "N, M = list(map(int,input().split()))\n",
    "\n",
    "l = []\n",
    "for i in range(N):\n",
    "    l.append(list(map(int,input().split())))\n",
    "\n",
    "my_array = numpy.array(l)\n",
    "\n",
    "numpy.set_printoptions(legacy='1.13') # seen by discussions\n",
    "print(numpy.mean(my_array, axis = 1))\n",
    "print(numpy.var(my_array, axis = 0)) \n",
    "print(numpy.std(my_array))"
   ]
  },
  {
   "cell_type": "markdown",
   "metadata": {},
   "source": [
    "### Dot and Cross"
   ]
  },
  {
   "cell_type": "code",
   "execution_count": null,
   "metadata": {},
   "outputs": [],
   "source": [
    "import numpy\n",
    "\n",
    "n = int(input())\n",
    "a = []\n",
    "b = []\n",
    "for i in range(n):\n",
    "    a.append(list(map(int,input().split())))\n",
    "for i in range(n):\n",
    "    b.append(list(map(int,input().split())))\n",
    "\n",
    "A = numpy.array(a)\n",
    "B = numpy.array(b)\n",
    "c = []\n",
    "B= numpy.transpose(B)\n",
    "for i in range(n):\n",
    "    r =[]\n",
    "    for j in range(n):\n",
    "        r.append(numpy.dot(A[i], B[j])) # product = A * t(B)\n",
    "    c.append(r)\n",
    "C = numpy.array(c)\n",
    "\n",
    "print(C)"
   ]
  },
  {
   "cell_type": "markdown",
   "metadata": {},
   "source": [
    "### Inner and Outer"
   ]
  },
  {
   "cell_type": "code",
   "execution_count": null,
   "metadata": {},
   "outputs": [],
   "source": [
    "import numpy\n",
    "\n",
    "A = numpy.array(list(map(int, input().split())))\n",
    "B = numpy.array(list(map(int, input().split())))\n",
    "\n",
    "print(numpy.inner(A, B))  \n",
    "\n",
    "print(numpy.outer(A, B))"
   ]
  },
  {
   "cell_type": "markdown",
   "metadata": {},
   "source": [
    "### Polynomials"
   ]
  },
  {
   "cell_type": "code",
   "execution_count": null,
   "metadata": {},
   "outputs": [],
   "source": [
    "import numpy\n",
    "\n",
    "poly_coeff = numpy.array(list(map(float, input().split())))\n",
    "x = float(input())\n",
    "\n",
    "print(numpy.polyval(poly_coeff,x))"
   ]
  },
  {
   "cell_type": "markdown",
   "metadata": {},
   "source": [
    "### Linear Algebra"
   ]
  },
  {
   "cell_type": "code",
   "execution_count": null,
   "metadata": {},
   "outputs": [],
   "source": [
    "import numpy\n",
    "\n",
    "N = int(input())\n",
    "\n",
    "l = []\n",
    "for i in range(N):\n",
    "    l.append(list(map(float, input().split())))\n",
    "matrix = numpy.array(l)\n",
    "numpy.set_printoptions(legacy='1.13')\n",
    "print(numpy.linalg.det(matrix)) "
   ]
  },
  {
   "cell_type": "markdown",
   "metadata": {},
   "source": [
    "---"
   ]
  },
  {
   "cell_type": "markdown",
   "metadata": {},
   "source": [
    "## Problem 2"
   ]
  },
  {
   "cell_type": "markdown",
   "metadata": {},
   "source": [
    "### Birthday Cake Candles"
   ]
  },
  {
   "cell_type": "code",
   "execution_count": null,
   "metadata": {},
   "outputs": [],
   "source": [
    "#!/bin/python3\n",
    "\n",
    "import math\n",
    "import os\n",
    "import random\n",
    "import re\n",
    "import sys\n",
    "\n",
    "# Complete the birthdayCakeCandles function below.\n",
    "def birthdayCakeCandles(ar):\n",
    "    ar = sorted(ar, key=lambda x: -x) # decreasing sorting\n",
    "    i = 0\n",
    "    while i < len(ar) and ar[i] == ar[0]: # count how many times the higest value appears\n",
    "        i +=1\n",
    "    return i\n",
    "\n",
    "if __name__ == '__main__':\n",
    "    fptr = open(os.environ['OUTPUT_PATH'], 'w')\n",
    "\n",
    "    ar_count = int(input())\n",
    "\n",
    "    ar = list(map(int, input().rstrip().split()))\n",
    "\n",
    "    result = birthdayCakeCandles(ar)\n",
    "\n",
    "    fptr.write(str(result) + '\\n')\n",
    "\n",
    "    fptr.close()"
   ]
  },
  {
   "cell_type": "markdown",
   "metadata": {},
   "source": [
    "### Kangaroo"
   ]
  },
  {
   "cell_type": "code",
   "execution_count": null,
   "metadata": {},
   "outputs": [],
   "source": [
    "#!/bin/python3\n",
    "\n",
    "import math\n",
    "import os\n",
    "import random\n",
    "import re\n",
    "import sys\n",
    "\n",
    "# Complete the kangaroo function below.\n",
    "def kangaroo(x1, v1, x2, v2):\n",
    "    if (x2 > x1) and (v2 >= v1): # if x2 > xx1 and v2>=v1 the kangaroo1 will never reach the kangaroo2 \n",
    "        return 'NO'\n",
    "    else:\n",
    "        check = float((x2-x1)/(v1-v2)).is_integer() # if this value is integer ----> both the kangaroos will meet in the same position \n",
    "\n",
    "        if check == True:\n",
    "            return 'YES'\n",
    "        else:\n",
    "            return 'NO'\n",
    "    \n",
    "if __name__ == '__main__':\n",
    "    fptr = open(os.environ['OUTPUT_PATH'], 'w')\n",
    "\n",
    "    x1V1X2V2 = input().split()\n",
    "\n",
    "    x1 = int(x1V1X2V2[0])\n",
    "\n",
    "    v1 = int(x1V1X2V2[1])\n",
    "\n",
    "    x2 = int(x1V1X2V2[2])\n",
    "\n",
    "    v2 = int(x1V1X2V2[3])\n",
    "\n",
    "    result = kangaroo(x1, v1, x2, v2)\n",
    "\n",
    "    fptr.write(result + '\\n')\n",
    "\n",
    "    fptr.close()"
   ]
  },
  {
   "cell_type": "markdown",
   "metadata": {},
   "source": [
    "### Viral Advertising"
   ]
  },
  {
   "cell_type": "code",
   "execution_count": null,
   "metadata": {},
   "outputs": [],
   "source": [
    "#!/bin/python3\n",
    "\n",
    "import math\n",
    "import os\n",
    "import random\n",
    "import re\n",
    "import sys\n",
    "\n",
    "# Complete the viralAdvertising function below.\n",
    "def viralAdvertising(n):\n",
    "    like = 2\n",
    "    v_like = like\n",
    "    \n",
    "    for i in range(n-1):\n",
    "        like = math.floor((like*3)/2) # like per day n\n",
    "        v_like += like #viral like count\n",
    "    return v_like\n",
    "\n",
    "if __name__ == '__main__':\n",
    "    fptr = open(os.environ['OUTPUT_PATH'], 'w')\n",
    "\n",
    "    n = int(input())\n",
    "\n",
    "    result = viralAdvertising(n)\n",
    "\n",
    "    fptr.write(str(result) + '\\n')\n",
    "\n",
    "    fptr.close()"
   ]
  },
  {
   "cell_type": "markdown",
   "metadata": {},
   "source": [
    "### Recursive Digit Sum"
   ]
  },
  {
   "cell_type": "code",
   "execution_count": null,
   "metadata": {},
   "outputs": [],
   "source": [
    "#!/bin/python3\n",
    "\n",
    "import math\n",
    "import os\n",
    "import random\n",
    "import re\n",
    "import sys\n",
    "\n",
    "# Complete the superDigit function below.\n",
    "def superDigit(n, k):    \n",
    "    p = int(n)*k\n",
    "    while p>9:\n",
    "        l = map(int, str(p))\n",
    "        p = sum(l)\n",
    "        \n",
    "    return p\n",
    "\n",
    "\n",
    "if __name__ == '__main__':\n",
    "    fptr = open(os.environ['OUTPUT_PATH'], 'w')\n",
    "\n",
    "    nk = input().split()\n",
    "\n",
    "    n = nk[0]\n",
    "\n",
    "    k = int(nk[1])\n",
    "\n",
    "    result = superDigit(n, k)\n",
    "\n",
    "    fptr.write(str(result) + '\\n')\n",
    "\n",
    "    fptr.close()"
   ]
  },
  {
   "cell_type": "markdown",
   "metadata": {},
   "source": [
    "### Insertion Sort - Part 1"
   ]
  },
  {
   "cell_type": "code",
   "execution_count": null,
   "metadata": {},
   "outputs": [],
   "source": [
    "#!/bin/python3\n",
    "\n",
    "import math\n",
    "import os\n",
    "import random\n",
    "import re\n",
    "import sys\n",
    "\n",
    "# Complete the insertionSort1 function below.\n",
    "def insertionSort1(n, arr):\n",
    "    x = arr[n-1]\n",
    "    i = n-2\n",
    "    while x < arr[i] and i >=0:\n",
    "        arr[i+1] = arr[i]\n",
    "        i -= 1\n",
    "        print(*arr)\n",
    "    arr[i+1] = x\n",
    "    print(*arr)\n",
    "\n",
    "if __name__ == '__main__':\n",
    "    n = int(input())\n",
    "\n",
    "    arr = list(map(int, input().rstrip().split()))\n",
    "\n",
    "    insertionSort1(n, arr)"
   ]
  },
  {
   "cell_type": "markdown",
   "metadata": {},
   "source": [
    "### Insertion Sort - Part 2"
   ]
  },
  {
   "cell_type": "code",
   "execution_count": null,
   "metadata": {},
   "outputs": [],
   "source": [
    "#!/bin/python3\n",
    "\n",
    "import math\n",
    "import os\n",
    "import random\n",
    "import re\n",
    "import sys\n",
    "\n",
    "# Complete the insertionSort2 function below.\n",
    "def insertionSort1(n, arr):\n",
    "    x = arr[n-1]\n",
    "    i = n-2\n",
    "    while x < arr[i] and i >=0:\n",
    "        arr[i+1] = arr[i]\n",
    "        i -= 1\n",
    "    arr[i+1] = x\n",
    "def insertionSort2(n, arr):\n",
    "    for i in range(2,n+1): # apply the insertionSort1 for n-2 times\n",
    "        insertionSort1(i,arr)\n",
    "        print(*arr)\n",
    "\n",
    "if __name__ == '__main__':\n",
    "    n = int(input())\n",
    "\n",
    "    arr = list(map(int, input().rstrip().split()))\n",
    "\n",
    "    insertionSort2(n, arr)"
   ]
  }
 ],
 "metadata": {
  "kernelspec": {
   "display_name": "Python 3",
   "language": "python",
   "name": "python3"
  },
  "language_info": {
   "codemirror_mode": {
    "name": "ipython",
    "version": 3
   },
   "file_extension": ".py",
   "mimetype": "text/x-python",
   "name": "python",
   "nbconvert_exporter": "python",
   "pygments_lexer": "ipython3",
   "version": "3.7.4"
  }
 },
 "nbformat": 4,
 "nbformat_minor": 4
}
